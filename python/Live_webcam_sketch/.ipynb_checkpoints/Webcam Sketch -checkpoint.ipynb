{
 "cells": [
  {
   "cell_type": "markdown",
   "metadata": {},
   "source": [
    "# Webcam Sktech"
   ]
  },
  {
   "cell_type": "code",
   "execution_count": 1,
   "metadata": {},
   "outputs": [],
   "source": [
    "# importing cv2 and numpy package\n",
    "\n",
    "import cv2\n",
    "import numpy as np"
   ]
  },
  {
   "cell_type": "code",
   "execution_count": 2,
   "metadata": {},
   "outputs": [],
   "source": [
    "def live_sketch(image):\n",
    "    \n",
    "    # converting image to gray scale\n",
    "    gray_img=cv2.cvtColor(image,cv2.COLOR_BGR2GRAY)\n",
    "\n",
    "    # image is cleaned with gaussian blur\n",
    "    blur_gray_img=cv2.GaussianBlur(gray_img,(5,5),0)\n",
    "\n",
    "    # edges are extracted\n",
    "    canny_bg_img = cv2.Canny(blur_gray_img,10,70)\n",
    "\n",
    "    # colour inversion and binarisation is done\n",
    "    ret,mask = cv2.threshold(canny_bg_img,70,255,cv2.THRESH_BINARY_INV)\n",
    "\n",
    "    return mask\n",
    "\n",
    "\n",
    "\n",
    "# webcam capture is initalised\n",
    "cap=cv2.VideoCapture(0)\n",
    "\n",
    "# ret -contains boolean whther if it was successfull\n",
    "# frame -contains image collected from\n",
    "# webcam(frame)\n",
    "while True:\n",
    "    ret,frame=cap.read()\n",
    "    cv2.imshow('Live sketch',live_sketch(frame))\n",
    "\n",
    "    # wait till enterkey(13) is pressed\n",
    "    if cv2.waitKey(1)==13:\n",
    "        break\n"
   ]
  }
 ],
 "metadata": {
  "kernelspec": {
   "display_name": "Python 3",
   "language": "python",
   "name": "python3"
  },
  "language_info": {
   "codemirror_mode": {
    "name": "ipython",
    "version": 3
   },
   "file_extension": ".py",
   "mimetype": "text/x-python",
   "name": "python",
   "nbconvert_exporter": "python",
   "pygments_lexer": "ipython3",
   "version": "3.7.3"
  }
 },
 "nbformat": 4,
 "nbformat_minor": 2
}
