{
 "cells": [
  {
   "cell_type": "markdown",
   "metadata": {},
   "source": [
    "## Counting circles and ellipses"
   ]
  },
  {
   "cell_type": "code",
   "execution_count": 1,
   "metadata": {},
   "outputs": [],
   "source": [
    "import cv2\n",
    "import numpy as np\n",
    "\n",
    "img = cv2.imread('blobs.jpg',0)\n",
    "cv2.imshow('original image',img)\n",
    "cv2.waitKey(0)\n",
    "\n",
    "# Initialize detector with default parameters\n",
    "\n",
    "blob_detector = cv2.SimpleBlobDetector_create()\n",
    "\n",
    "# Detect blobs\n",
    "keypts = blob_detector.detect(img)\n",
    "\n",
    "# draw the detected blobs as green circles\n",
    "blank = np.zeros((1,1))\n",
    "blobs_detected_img = cv2.drawKeypoints(img,keypts,blank,(0,255,0),\n",
    "                                   cv2.DRAW_MATCHES_FLAGS_DRAW_RICH_KEYPOINTS)\n",
    "no_of_blobs = len(keypts)\n",
    "text = \"Total Number of Blobs: \" + str(len(keypts))\n",
    "\n",
    "# text is written and displayed\n",
    "cv2.putText(blobs_detected_img,text,(20,550),cv2.FONT_HERSHEY_SIMPLEX,1,(100,0,255),2)\n",
    "\n",
    "cv2.imshow(\"Blobs using default parameters\",blobs_detected_img)\n",
    "cv2.waitKey(0)\n",
    "\n",
    "# Extracting circles from ellipses\n",
    "# We have to set filtering parameters\n",
    "\n",
    "# Initialising parameters for blob detector\n",
    "params = cv2.SimpleBlobDetector_Params()\n",
    "\n",
    "params.filterByArea = True\n",
    "params.minArea = 100\n",
    "\n",
    "params.filterByCircularity  = True\n",
    "params.minCircularity = 0.9\n",
    "\n",
    "params.filterByConvexity = False\n",
    "params.minConvexity = 0.2\n",
    "\n",
    "params.filterByInertia = True\n",
    "params.minInertiaRatio = 0.01\n",
    "\n",
    "# creating a detector with parameters\n",
    "\n",
    "blob_detector_pms_img = cv2.SimpleBlobDetector_create(params)\n",
    "\n",
    "# Detect\n",
    "keypts = blob_detector_pms_img.detect(img)\n",
    "\n",
    "blank = np.zeros((1,1))\n",
    "circle_detected_img = cv2.drawKeypoints(img,keypts,blank,cv2.DRAW_MATCHES_FLAGS_DRAW_RICH_KEYPOINTS)\n",
    "\n",
    "no_of_blobs = len(keypts)\n",
    "text = \"Number of circular blobs: \"+ str(no_of_blobs)\n",
    "cv2.putText(circle_detected_img,text,(20,550),cv2.FONT_HERSHEY_SIMPLEX,1,(0,100,255),2)\n",
    "\n",
    "cv2.imshow(\"Filtering circular blobs only\",circle_detected_img)\n",
    "cv2.waitKey(0)\n",
    "cv2.destroyAllWindows()"
   ]
  }
 ],
 "metadata": {
  "kernelspec": {
   "display_name": "Python 3",
   "language": "python",
   "name": "python3"
  },
  "language_info": {
   "codemirror_mode": {
    "name": "ipython",
    "version": 3
   },
   "file_extension": ".py",
   "mimetype": "text/x-python",
   "name": "python",
   "nbconvert_exporter": "python",
   "pygments_lexer": "ipython3",
   "version": "3.7.3"
  }
 },
 "nbformat": 4,
 "nbformat_minor": 2
}
