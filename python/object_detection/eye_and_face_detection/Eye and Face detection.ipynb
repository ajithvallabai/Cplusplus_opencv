{
 "cells": [
  {
   "cell_type": "code",
   "execution_count": 1,
   "metadata": {},
   "outputs": [],
   "source": [
    "import numpy as np\n",
    "import cv2\n",
    "\n",
    "# taking respective cascades\n",
    "eye_cascade_class = cv2.CascadeClassifier('haarcascade_eye.xml')\n",
    "face_cascade_class = cv2.CascadeClassifier('haarcascade_frontalface_default.xml')\n",
    "smile_cascade_class = cv2.CascadeClassifier('haarcascade_smile.xml')\n",
    "\n",
    "\n",
    "# converting to gray scale\n",
    "image = cv2.imread('man.jpg')\n",
    "gray_img = cv2.cvtColor(image,cv2.COLOR_BGR2GRAY)\n",
    "\n",
    "faces = face_cascade_class.detectMultiScale(gray_img,1.3,5)\n",
    "smile = smile_cascade_class.detectMultiScale(gray_img,1.3,30)\n",
    "\n",
    "# detecting face -> drawing a rectangle over it ->\n",
    "# detecting eye -> drawing rectangle over each eye -->\n",
    "# detecting smile --> drawing rectangle over the smile\n",
    "for (x,y,w,h) in faces:\n",
    "    image = cv2.rectangle(image,(x,y),(x+w,y+h),(255,0,0),2)\n",
    "    roi_gray = gray_img[y:y+h,x:x+h]\n",
    "    roi_color = image[y:y+h,x:x+w]\n",
    "    eyes = eye_cascade_class.detectMultiScale(roi_gray,1.3,5)\n",
    "    for (ex,ey,ew,eh) in eyes:\n",
    "        cv2.rectangle(roi_color,(ex,ey),(ex+ew,ey+eh),(0,255,0),2)\n",
    "for (x,y,w,h) in smile:\n",
    "    image = cv2.rectangle(image,(x,y),(x+w,y+h),(255,255,0),2)\n",
    "\n",
    "cv2.imshow(\"image\",image)\n",
    "cv2.waitKey(0)\n",
    "cv2.destroyAllWindows()\n",
    "\n"
   ]
  }
 ],
 "metadata": {
  "kernelspec": {
   "display_name": "Python 3",
   "language": "python",
   "name": "python3"
  },
  "language_info": {
   "codemirror_mode": {
    "name": "ipython",
    "version": 3
   },
   "file_extension": ".py",
   "mimetype": "text/x-python",
   "name": "python",
   "nbconvert_exporter": "python",
   "pygments_lexer": "ipython3",
   "version": "3.7.3"
  }
 },
 "nbformat": 4,
 "nbformat_minor": 2
}
