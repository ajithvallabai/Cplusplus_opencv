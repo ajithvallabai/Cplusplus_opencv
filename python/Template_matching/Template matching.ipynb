{
 "cells": [
  {
   "cell_type": "markdown",
   "metadata": {},
   "source": [
    "## Template matching"
   ]
  },
  {
   "cell_type": "code",
   "execution_count": 2,
   "metadata": {},
   "outputs": [],
   "source": [
    "import cv2\n",
    "import numpy as np\n",
    "\n",
    "img = cv2.imread('rayBeach.jpg')\n",
    "cv2.imshow('Where is Ray?',img)\n",
    "cv2.waitKey(0)\n",
    "\n",
    "gray_img = cv2.cvtColor(img,cv2.COLOR_BGR2GRAY)\n",
    "\n",
    "# load template image\n",
    "template=cv2.imread('ray.jpg',0)\n",
    "\n",
    "# using matchTemplate function to match the template with source image\n",
    "reslt = cv2.matchTemplate(gray_img,template,cv2.TM_CCOEFF)\n",
    "\n",
    "min_val,max_val,min_loc,max_loc = cv2.minMaxLoc(reslt)\n",
    "\n",
    "# Extracting the points\n",
    "top_left = max_loc\n",
    "bottom_right = (top_left[0]+50,top_left[1]+50)\n",
    "\n",
    "# pointing Ray with rectangle\n",
    "cv2.rectangle(img,top_left,bottom_right,(0,0,255),5)\n",
    "\n",
    "cv2.imshow('Where is Ray?',img)\n",
    "cv2.waitKey(0)\n",
    "\n",
    "cv2.destroyAllWindows()"
   ]
  }
 ],
 "metadata": {
  "kernelspec": {
   "display_name": "Python 3",
   "language": "python",
   "name": "python3"
  },
  "language_info": {
   "codemirror_mode": {
    "name": "ipython",
    "version": 3
   },
   "file_extension": ".py",
   "mimetype": "text/x-python",
   "name": "python",
   "nbconvert_exporter": "python",
   "pygments_lexer": "ipython3",
   "version": "3.7.3"
  }
 },
 "nbformat": 4,
 "nbformat_minor": 2
}
