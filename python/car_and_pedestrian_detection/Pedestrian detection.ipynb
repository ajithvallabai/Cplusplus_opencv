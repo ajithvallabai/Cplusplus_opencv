{
 "cells": [
  {
   "cell_type": "code",
   "execution_count": 2,
   "metadata": {},
   "outputs": [],
   "source": [
    "import cv2\n",
    "import  numpy as np\n",
    "\n",
    "body_cascade = cv2.CascadeClassifier('haarcascade_fullbody.xml')\n",
    "capture = cv2.VideoCapture('walking.avi')\n",
    "\n",
    "while True:\n",
    "\n",
    "    ret,frame = capture.read()\n",
    "    # converting image to gray scale\n",
    "    gray_frame= cv2.cvtColor(frame,cv2.COLOR_BGR2GRAY)\n",
    "    \n",
    "    body_frame = body_cascade.detectMultiScale(gray_frame,1.2,3)\n",
    "    \n",
    "    # drawing rectangles over the detected frame\n",
    "    for (x,y,w,h) in body_frame:\n",
    "        cv2.rectangle(frame,(x,y),(x+w,y+h),(255,0,255),2)\n",
    "        cv2.imshow(\"Pedestrians\",frame)\n",
    "    \n",
    "    #press enter to exit\n",
    "    if cv2.waitKey(1) == 13:\n",
    "        break\n",
    "\n",
    "cv2.destroyAllWindows()\n",
    "\n"
   ]
  }
 ],
 "metadata": {
  "kernelspec": {
   "display_name": "Python 3",
   "language": "python",
   "name": "python3"
  },
  "language_info": {
   "codemirror_mode": {
    "name": "ipython",
    "version": 3
   },
   "file_extension": ".py",
   "mimetype": "text/x-python",
   "name": "python",
   "nbconvert_exporter": "python",
   "pygments_lexer": "ipython3",
   "version": "3.7.3"
  }
 },
 "nbformat": 4,
 "nbformat_minor": 2
}
