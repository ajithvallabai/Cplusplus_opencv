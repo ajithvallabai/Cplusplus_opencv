{
 "cells": [
  {
   "cell_type": "code",
   "execution_count": 1,
   "metadata": {},
   "outputs": [],
   "source": [
    "import cv2\n",
    "import numpy as np\n",
    "\n",
    "# geting vvideo input\n",
    "capture = cv2.VideoCapture('video.avi')\n",
    "\n",
    "# getting harcascade classifier\n",
    "car_cascade = cv2.CascadeClassifier('cars.xml')\n",
    "\n",
    "while True:\n",
    "\n",
    "    ret,frame = capture.read()\n",
    "    # converting to gray scale\n",
    "    gray = cv2.cvtColor(frame,cv2.COLOR_BGR2GRAY)\n",
    "    cars = car_cascade.detectMultiScale(gray,1.1,1)\n",
    "    \n",
    "    # drawing rectangle over the detected frames\n",
    "    for (x,y,w,h) in cars:\n",
    "        cv2.rectangle(frame,(x,y),(x+w,y+h),(0,0,255),2)\n",
    "    cv2.imshow('cars',frame)\n",
    "    if cv2.waitKey(1) == 13:\n",
    "       break\n",
    "cv2.destroyAllWindows()\n"
   ]
  }
 ],
 "metadata": {
  "kernelspec": {
   "display_name": "Python 3",
   "language": "python",
   "name": "python3"
  },
  "language_info": {
   "codemirror_mode": {
    "name": "ipython",
    "version": 3
   },
   "file_extension": ".py",
   "mimetype": "text/x-python",
   "name": "python",
   "nbconvert_exporter": "python",
   "pygments_lexer": "ipython3",
   "version": "3.7.3"
  }
 },
 "nbformat": 4,
 "nbformat_minor": 2
}
